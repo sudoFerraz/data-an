{
 "cells": [
  {
   "cell_type": "markdown",
   "metadata": {},
   "source": [
    "\n",
    "Before we get started, a couple of reminders to keep in mind when using iPython notebooks:\n",
    "\n",
    "- Remember that you can see from the left side of a code cell when it was last run if there is a number within the brackets.\n",
    "- When you start a new notebook session, make sure you run all of the cells up to the point where you last left off. Even if the output is still visible from when you ran the cells in your previous session, the kernel starts in a fresh state so you'll need to reload the data, etc. on a new session.\n",
    "- The previous point is useful to keep in mind if your answers do not match what is expected in the lesson's quizzes. Try reloading the data and run all of the processing steps one by one in order to make sure that you are working with the same variables and data that are at each quiz stage.\n",
    "\n",
    "\n",
    "## Load Data from CSVs"
   ]
  },
  {
   "cell_type": "code",
   "execution_count": 2,
   "metadata": {
    "collapsed": true
   },
   "outputs": [],
   "source": [
    "import unicodecsv\n",
    "\n",
    "## Longer version of code (replaced with shorter, equivalent version below)\n",
    "\n",
    "# enrollments = []\n",
    "# f = open('enrollments.csv', 'rb')\n",
    "# reader = unicodecsv.DictReader(f)\n",
    "# for row in reader:\n",
    "#     enrollments.append(row)\n",
    "# f.close()\n",
    "\n",
    "with open('enrollments.csv', 'rb') as f:\n",
    "    reader = unicodecsv.DictReader(f)\n",
    "    enrollments = list(reader)"
   ]
  },
  {
   "cell_type": "code",
   "execution_count": 3,
   "metadata": {},
   "outputs": [
    {
     "name": "stdout",
     "output_type": "stream",
     "text": [
      "{u'lessons_completed': u'0.0', u'num_courses_visited': u'2.0', u'total_minutes_visited': u'37.2848873333', u'projects_completed': u'0.0', u'acct': u'0', u'utc_date': u'2015-01-10'}\n",
      "{u'lesson_key': u'3176718735', u'processing_state': u'EVALUATED', u'account_key': u'256', u'assigned_rating': u'INCOMPLETE', u'completion_date': u'2015-01-13', u'creation_date': u'2015-01-10'}\n"
     ]
    }
   ],
   "source": [
    "#####################################\n",
    "#                 1                 #\n",
    "#####################################\n",
    "\n",
    "## Read in the data from daily_engagement.csv and project_submissions.csv \n",
    "## and store the results in the below variables.\n",
    "## Then look at the first row of each table.\n",
    "\n",
    "with open('daily_engagement.csv', 'rb') as f:\n",
    "    reader = unicodecsv.DictReader(f)\n",
    "    daily_engagement = list(reader)\n",
    "with open('project_submissions.csv', 'rb') as f:\n",
    "    reader = unicodecsv.DictReader(f)\n",
    "    project_submissions = list(reader)\n",
    "\n",
    "print daily_engagement[1]\n",
    "print project_submissions[1]"
   ]
  },
  {
   "cell_type": "markdown",
   "metadata": {},
   "source": [
    "## Fixing Data Types"
   ]
  },
  {
   "cell_type": "code",
   "execution_count": 4,
   "metadata": {},
   "outputs": [
    {
     "data": {
      "text/plain": [
       "{u'account_key': u'448',\n",
       " u'cancel_date': datetime.datetime(2015, 1, 14, 0, 0),\n",
       " u'days_to_cancel': 65,\n",
       " u'is_canceled': True,\n",
       " u'is_udacity': True,\n",
       " u'join_date': datetime.datetime(2014, 11, 10, 0, 0),\n",
       " u'status': u'canceled'}"
      ]
     },
     "execution_count": 4,
     "metadata": {},
     "output_type": "execute_result"
    }
   ],
   "source": [
    "from datetime import datetime as dt\n",
    "\n",
    "# Takes a date as a string, and returns a Python datetime object. \n",
    "# If there is no date given, returns None\n",
    "def parse_date(date):\n",
    "    if date == '':\n",
    "        return None\n",
    "    else:\n",
    "        return dt.strptime(date, '%Y-%m-%d')\n",
    "    \n",
    "# Takes a string which is either an empty string or represents an integer,\n",
    "# and returns an int or None.\n",
    "def parse_maybe_int(i):\n",
    "    if i == '':\n",
    "        return None\n",
    "    else:\n",
    "        return int(i)\n",
    "\n",
    "# Clean up the data types in the enrollments table\n",
    "for enrollment in enrollments:\n",
    "    enrollment['cancel_date'] = parse_date(enrollment['cancel_date'])\n",
    "    enrollment['days_to_cancel'] = parse_maybe_int(enrollment['days_to_cancel'])\n",
    "    enrollment['is_canceled'] = enrollment['is_canceled'] == 'True'\n",
    "    enrollment['is_udacity'] = enrollment['is_udacity'] == 'True'\n",
    "    enrollment['join_date'] = parse_date(enrollment['join_date'])\n",
    "    \n",
    "enrollments[0]"
   ]
  },
  {
   "cell_type": "code",
   "execution_count": 5,
   "metadata": {},
   "outputs": [
    {
     "data": {
      "text/plain": [
       "{u'acct': u'0',\n",
       " u'lessons_completed': 0,\n",
       " u'num_courses_visited': 1,\n",
       " u'projects_completed': 0,\n",
       " u'total_minutes_visited': 11.6793745,\n",
       " u'utc_date': datetime.datetime(2015, 1, 9, 0, 0)}"
      ]
     },
     "execution_count": 5,
     "metadata": {},
     "output_type": "execute_result"
    }
   ],
   "source": [
    "# Clean up the data types in the engagement table\n",
    "for engagement_record in daily_engagement:\n",
    "    engagement_record['lessons_completed'] = int(float(engagement_record['lessons_completed']))\n",
    "    engagement_record['num_courses_visited'] = int(float(engagement_record['num_courses_visited']))\n",
    "    engagement_record['projects_completed'] = int(float(engagement_record['projects_completed']))\n",
    "    engagement_record['total_minutes_visited'] = float(engagement_record['total_minutes_visited'])\n",
    "    engagement_record['utc_date'] = parse_date(engagement_record['utc_date'])\n",
    "    \n",
    "daily_engagement[0]"
   ]
  },
  {
   "cell_type": "code",
   "execution_count": 6,
   "metadata": {},
   "outputs": [
    {
     "data": {
      "text/plain": [
       "{u'account_key': u'256',\n",
       " u'assigned_rating': u'UNGRADED',\n",
       " u'completion_date': datetime.datetime(2015, 1, 16, 0, 0),\n",
       " u'creation_date': datetime.datetime(2015, 1, 14, 0, 0),\n",
       " u'lesson_key': u'3176718735',\n",
       " u'processing_state': u'EVALUATED'}"
      ]
     },
     "execution_count": 6,
     "metadata": {},
     "output_type": "execute_result"
    }
   ],
   "source": [
    "# Clean up the data types in the submissions table\n",
    "for submission in project_submissions:\n",
    "    submission['completion_date'] = parse_date(submission['completion_date'])\n",
    "    submission['creation_date'] = parse_date(submission['creation_date'])\n",
    "\n",
    "project_submissions[0]"
   ]
  },
  {
   "cell_type": "markdown",
   "metadata": {},
   "source": [
    "Note when running the above cells that we are actively changing the contents of our data variables. If you try to run these cells multiple times in the same session, an error will occur.\n",
    "\n",
    "## Investigating the Data"
   ]
  },
  {
   "cell_type": "code",
   "execution_count": 7,
   "metadata": {},
   "outputs": [
    {
     "name": "stdout",
     "output_type": "stream",
     "text": [
      "743\n",
      "3642\n",
      "1237\n",
      "136240\n",
      "1302\n",
      "1302\n"
     ]
    }
   ],
   "source": [
    "#####################################\n",
    "#                 2                 #\n",
    "#####################################\n",
    "\n",
    "## Find the total number of rows and the number of unique students (account keys)\n",
    "## in each table.\n",
    "\n",
    "student_list_project_submissions = []\n",
    "for student in project_submissions:\n",
    "    if student[\"account_key\"] not in student_list_project_submissions:\n",
    "        student_list_project_submissions.append(student[\"account_key\"])\n",
    "        \n",
    "unique_students_project_submissions = int(len(student_list_project_submissions))\n",
    "number_of_rows_project_submissions = int(len(project_submissions))\n",
    "\n",
    "student_list_daily_engagement = []\n",
    "for student in daily_engagement:\n",
    "    if student[\"acct\"] not in student_list_daily_engagement:\n",
    "        student_list_daily_engagement.append(student[\"acct\"])\n",
    "        \n",
    "unique_students_daily_engagement = int(len(student_list_daily_engagement))\n",
    "number_of_rows_daily_engagement = int(len(daily_engagement))\n",
    "\n",
    "student_list_enrollments = []\n",
    "\n",
    "\n",
    "for student in enrollments:\n",
    "    if student[\"account_key\"] not in student_list_enrollments:\n",
    "        student_list_enrollments.append(student[\"account_key\"])\n",
    "\n",
    "unique_students_enrollments = int(len(student_list_enrollments))\n",
    "number_of_rows_enrollments = int(len(student_list_enrollments))\n",
    "\n",
    "print unique_students_project_submissions\n",
    "print number_of_rows_project_submissions\n",
    "print unique_students_daily_engagement\n",
    "print number_of_rows_daily_engagement\n",
    "print unique_students_enrollments\n",
    "print number_of_rows_enrollments\n",
    "    \n"
   ]
  },
  {
   "cell_type": "markdown",
   "metadata": {},
   "source": [
    "## Problems in the Data"
   ]
  },
  {
   "cell_type": "code",
   "execution_count": 8,
   "metadata": {},
   "outputs": [
    {
     "name": "stdout",
     "output_type": "stream",
     "text": [
      "136240\n"
     ]
    }
   ],
   "source": [
    "#####################################\n",
    "#                 3                 #\n",
    "#####################################\n",
    "\n",
    "## Rename the \"acct\" column in the daily_engagement table to \"account_key\".\n",
    "engagement = daily_engagement\n",
    "engagement_list = []\n",
    "for engagement in daily_engagement:\n",
    "    if engagement[\"acct\"]:\n",
    "        engagement[\"account_key\"] = engagement.pop(\"acct\")\n",
    "    engagement_list.append(engagement)\n",
    "\n",
    "daily_engagement = engagement_list\n",
    "print len(daily_engagement)\n",
    "\n"
   ]
  },
  {
   "cell_type": "markdown",
   "metadata": {},
   "source": [
    "## Missing Engagement Records"
   ]
  },
  {
   "cell_type": "code",
   "execution_count": 9,
   "metadata": {
    "collapsed": true
   },
   "outputs": [],
   "source": [
    "#####################################\n",
    "#                 4                 #\n",
    "#####################################\n",
    "\n",
    "## Find any one student enrollments where the student is missing from the daily engagement table.\n",
    "## Output that enrollment."
   ]
  },
  {
   "cell_type": "markdown",
   "metadata": {},
   "source": [
    "## Checking for More Problem Records"
   ]
  },
  {
   "cell_type": "code",
   "execution_count": 10,
   "metadata": {},
   "outputs": [
    {
     "name": "stdout",
     "output_type": "stream",
     "text": [
      "3\n",
      "[{u'status': u'canceled', u'is_udacity': True, u'is_canceled': True, u'join_date': datetime.datetime(2015, 1, 10, 0, 0), u'account_key': u'1304', u'cancel_date': datetime.datetime(2015, 3, 10, 0, 0), u'days_to_cancel': 59}, {u'status': u'canceled', u'is_udacity': True, u'is_canceled': True, u'join_date': datetime.datetime(2015, 3, 10, 0, 0), u'account_key': u'1304', u'cancel_date': datetime.datetime(2015, 6, 17, 0, 0), u'days_to_cancel': 99}, {u'status': u'current', u'is_udacity': True, u'is_canceled': False, u'join_date': datetime.datetime(2015, 2, 25, 0, 0), u'account_key': u'1101', u'cancel_date': None, u'days_to_cancel': None}]\n"
     ]
    }
   ],
   "source": [
    "#####################################\n",
    "#                 5                 #\n",
    "#####################################\n",
    "\n",
    "## Find the number of surprising data points (enrollments missing from\n",
    "## the engagement table) that remain, if any.\n",
    "weird_students = []\n",
    "counter = 0 \n",
    "for enrollment in enrollments:\n",
    "    if enrollment['days_to_cancel'] != 0:\n",
    "        if enrollment['account_key'] not in student_list_daily_engagement:\n",
    "            counter = counter + 1\n",
    "            weird_students.append(enrollment)\n",
    "\n",
    "            \n",
    "print counter\n",
    "print weird_students"
   ]
  },
  {
   "cell_type": "markdown",
   "metadata": {},
   "source": [
    "## Tracking Down the Remaining Problems"
   ]
  },
  {
   "cell_type": "code",
   "execution_count": 11,
   "metadata": {},
   "outputs": [
    {
     "data": {
      "text/plain": [
       "6"
      ]
     },
     "execution_count": 11,
     "metadata": {},
     "output_type": "execute_result"
    }
   ],
   "source": [
    "# Create a set of the account keys for all Udacity test accounts\n",
    "udacity_test_accounts = set()\n",
    "for enrollment in enrollments:\n",
    "    if enrollment['is_udacity']:\n",
    "        udacity_test_accounts.add(enrollment['account_key'])\n",
    "len(udacity_test_accounts)"
   ]
  },
  {
   "cell_type": "code",
   "execution_count": 12,
   "metadata": {
    "collapsed": true
   },
   "outputs": [],
   "source": [
    "# Given some data with an account_key field, removes any records corresponding to Udacity test accounts\n",
    "def remove_udacity_accounts(data):\n",
    "    non_udacity_data = []\n",
    "    for data_point in data:\n",
    "        if data_point['account_key'] not in udacity_test_accounts:\n",
    "            non_udacity_data.append(data_point)\n",
    "    return non_udacity_data"
   ]
  },
  {
   "cell_type": "code",
   "execution_count": 13,
   "metadata": {},
   "outputs": [
    {
     "name": "stdout",
     "output_type": "stream",
     "text": [
      "1622\n",
      "135656\n",
      "3634\n"
     ]
    }
   ],
   "source": [
    "# Remove Udacity test accounts from all three tables\n",
    "non_udacity_enrollments = remove_udacity_accounts(enrollments)\n",
    "non_udacity_engagement = remove_udacity_accounts(daily_engagement)\n",
    "non_udacity_submissions = remove_udacity_accounts(project_submissions)\n",
    "\n",
    "print len(non_udacity_enrollments)\n",
    "print len(non_udacity_engagement)\n",
    "print len(non_udacity_submissions)"
   ]
  },
  {
   "cell_type": "markdown",
   "metadata": {},
   "source": [
    "## Refining the Question"
   ]
  },
  {
   "cell_type": "code",
   "execution_count": 14,
   "metadata": {},
   "outputs": [
    {
     "name": "stdout",
     "output_type": "stream",
     "text": [
      "{u'status': u'canceled', u'is_udacity': False, u'is_canceled': True, u'join_date': datetime.datetime(2014, 11, 10, 0, 0), u'account_key': u'429', u'cancel_date': datetime.datetime(2015, 3, 10, 0, 0), u'days_to_cancel': 120}\n",
      "995\n",
      "2015-05-06 00:00:00\n"
     ]
    }
   ],
   "source": [
    "#####################################\n",
    "#                 6                 #\n",
    "#####################################\n",
    "\n",
    "## Create a dictionary named paid_students containing all students who either\n",
    "## haven't canceled yet or who remained enrolled for more than 7 days. The keys\n",
    "## should be account keys, and the values should be the date the student enrolled.\n",
    "paid_students = {}\n",
    "print non_udacity_enrollments[1]\n",
    "for enrollment in non_udacity_enrollments:\n",
    "    if enrollment['days_to_cancel'] == None:\n",
    "        if enrollment['account_key'] not in paid_students or enrollment['join_date'] > paid_students[enrollment['account_key']]:\n",
    "            paid_students[enrollment['account_key']] = enrollment['join_date']\n",
    "    elif enrollment['days_to_cancel'] > 7:\n",
    "        if enrollment['account_key'] not in paid_students or enrollment['join_date'] > paid_students[enrollment['account_key']]:\n",
    "            paid_students[enrollment['account_key']] = enrollment['join_date']\n",
    "    else:\n",
    "        pass\n",
    "    \n",
    "print len(paid_students)\n",
    "print paid_students['1']"
   ]
  },
  {
   "cell_type": "markdown",
   "metadata": {},
   "source": [
    "## Getting Data from First Week"
   ]
  },
  {
   "cell_type": "code",
   "execution_count": 15,
   "metadata": {
    "collapsed": true
   },
   "outputs": [],
   "source": [
    "# Takes a student's join date and the date of a specific engagement record,\n",
    "# and returns True if that engagement record happened within one week\n",
    "# of the student joining.\n",
    "def within_one_week(join_date, engagement_date):\n",
    "    time_delta = engagement_date - join_date\n",
    "    return time_delta.days < 7 and time_delta.days >= 0"
   ]
  },
  {
   "cell_type": "code",
   "execution_count": 16,
   "metadata": {},
   "outputs": [
    {
     "name": "stdout",
     "output_type": "stream",
     "text": [
      "{u'lessons_completed': 0, u'num_courses_visited': 1, u'total_minutes_visited': 11.6793745, u'projects_completed': 0, 'account_key': u'0', u'utc_date': datetime.datetime(2015, 1, 9, 0, 0)}\n",
      "6919\n"
     ]
    }
   ],
   "source": [
    "#####################################\n",
    "#                 7                 #\n",
    "#####################################\n",
    "\n",
    "## Create a list of rows from the engagement table including only rows where\n",
    "## the student is one of the paid students you just found, and the date is within\n",
    "## one week of the student's join date.\n",
    "paid_engagement_in_first_week = []\n",
    "print non_udacity_engagement[0]\n",
    "for engagement in non_udacity_engagement:\n",
    "    if engagement['account_key'] in paid_students:\n",
    "        if within_one_week(paid_students[engagement['account_key']], engagement['utc_date']):\n",
    "            paid_engagement_in_first_week.append(engagement)\n",
    "            \n",
    "print len(paid_engagement_in_first_week)\n",
    "        \n",
    "        \n",
    "    \n",
    "    "
   ]
  },
  {
   "cell_type": "markdown",
   "metadata": {},
   "source": [
    "## Exploring Student Engagement"
   ]
  },
  {
   "cell_type": "code",
   "execution_count": 17,
   "metadata": {
    "collapsed": true
   },
   "outputs": [],
   "source": [
    "from collections import defaultdict\n",
    "\n",
    "# Create a dictionary of engagement grouped by student.\n",
    "# The keys are account keys, and the values are lists of engagement records.\n",
    "engagement_by_account = defaultdict(list)\n",
    "for engagement_record in paid_engagement_in_first_week:\n",
    "    account_key = engagement_record['account_key']\n",
    "    engagement_by_account[account_key].append(engagement_record)"
   ]
  },
  {
   "cell_type": "code",
   "execution_count": 18,
   "metadata": {
    "collapsed": true
   },
   "outputs": [],
   "source": [
    "# Create a dictionary with the total minutes each student spent in the classroom during the first week.\n",
    "# The keys are account keys, and the values are numbers (total minutes)\n",
    "total_minutes_by_account = {}\n",
    "for account_key, engagement_for_student in engagement_by_account.items():\n",
    "    total_minutes = 0\n",
    "    for engagement_record in engagement_for_student:\n",
    "        total_minutes += engagement_record['total_minutes_visited']\n",
    "    total_minutes_by_account[account_key] = total_minutes"
   ]
  },
  {
   "cell_type": "code",
   "execution_count": 19,
   "metadata": {},
   "outputs": [
    {
     "name": "stdout",
     "output_type": "stream",
     "text": [
      "Mean: 306.708326753\n",
      "Standard deviation: 412.996933409\n",
      "Minimum: 0.0\n",
      "Maximum: 3564.7332645\n"
     ]
    }
   ],
   "source": [
    "import numpy as np\n",
    "\n",
    "# Summarize the data about minutes spent in the classroom\n",
    "total_minutes = total_minutes_by_account.values()\n",
    "print 'Mean:', np.mean(total_minutes)\n",
    "print 'Standard deviation:', np.std(total_minutes)\n",
    "print 'Minimum:', np.min(total_minutes)\n",
    "print 'Maximum:', np.max(total_minutes)"
   ]
  },
  {
   "cell_type": "markdown",
   "metadata": {},
   "source": [
    "## Debugging Data Analysis Code"
   ]
  },
  {
   "cell_type": "code",
   "execution_count": 20,
   "metadata": {
    "collapsed": true
   },
   "outputs": [],
   "source": [
    "#####################################\n",
    "#                 8                 #\n",
    "#####################################\n",
    "\n",
    "## Go through a similar process as before to see if there is a problem.\n",
    "## Locate at least one surprising piece of data, output it, and take a look at it.\n"
   ]
  },
  {
   "cell_type": "markdown",
   "metadata": {},
   "source": [
    "## Lessons Completed in First Week"
   ]
  },
  {
   "cell_type": "code",
   "execution_count": 21,
   "metadata": {},
   "outputs": [
    {
     "name": "stdout",
     "output_type": "stream",
     "text": [
      "Mean: 1.63618090452\n",
      "Standard deviation: 3.00256129983\n",
      "Minimum 0\n",
      "Maximum 36\n"
     ]
    }
   ],
   "source": [
    "#####################################\n",
    "#                 9                 #\n",
    "#####################################\n",
    "\n",
    "## Adapt the code above to find the mean, standard deviation, minimum, and maximum for\n",
    "## the number of lessons completed by each student during the first week. Try creating\n",
    "## one or more functions to re-use the code above.\n",
    "\n",
    "total_lessons_by_account = {}\n",
    "for account_key, engagement_for_student in engagement_by_account.items():\n",
    "    total_lessons = 0\n",
    "    for engagement_record in engagement_for_student:\n",
    "        total_lessons += engagement_record['lessons_completed']\n",
    "    total_lessons_by_account[account_key] = total_lessons\n",
    "    \n",
    "import numpy as np\n",
    "\n",
    "total_lessons = total_lessons_by_account.values()\n",
    "print 'Mean:', np.mean(total_lessons)\n",
    "print 'Standard deviation:', np.std(total_lessons)\n",
    "print 'Minimum', np.min(total_lessons)\n",
    "print 'Maximum', np.max(total_lessons)\n",
    "\n"
   ]
  },
  {
   "cell_type": "markdown",
   "metadata": {},
   "source": [
    "## Number of Visits in First Week"
   ]
  },
  {
   "cell_type": "code",
   "execution_count": 22,
   "metadata": {},
   "outputs": [
    {
     "name": "stdout",
     "output_type": "stream",
     "text": [
      "Mean: 2.86733668342\n",
      "Standard deviation: 2.25519800292\n",
      "Minimum: 0\n",
      "Maximum: 7\n"
     ]
    }
   ],
   "source": [
    "######################################\n",
    "#                 10                 #\n",
    "######################################\n",
    "\n",
    "## Find the mean, standard deviation, minimum, and maximum for the number of\n",
    "## days each student visits the classroom during the first week.\n",
    "from collections import defaultdict\n",
    "\n",
    "\n",
    "total_visited_by_account = {}\n",
    "dates_visited_by_student = defaultdict(list)\n",
    "for account_key, engagement_for_student in engagement_by_account.items():\n",
    "    total_visits = 0\n",
    "    for engagement_record in engagement_for_student:\n",
    "        if engagement_record['utc_date'] not in dates_visited_by_student[engagement_record['account_key']]:\n",
    "            if engagement_record['num_courses_visited'] > 0:\n",
    "                dates_visited_by_student[engagement_record['account_key']].append(engagement_record['utc_date'])\n",
    "        #total_visits += engagement_record['num_courses_visited']\n",
    "    total_visited_by_account[account_key] = len(dates_visited_by_student[account_key])\n",
    "    \n",
    "import numpy as np\n",
    "total_visits = total_visited_by_account.values()\n",
    "print 'Mean:', np.mean(total_visits)\n",
    "print 'Standard deviation:', np.std(total_visits)\n",
    "print 'Minimum:', np.min(total_visits)\n",
    "print 'Maximum:', np.max(total_visits)"
   ]
  },
  {
   "cell_type": "markdown",
   "metadata": {},
   "source": [
    "## Splitting out Passing Students"
   ]
  },
  {
   "cell_type": "code",
   "execution_count": 27,
   "metadata": {},
   "outputs": [
    {
     "name": "stdout",
     "output_type": "stream",
     "text": [
      "{u'lesson_key': u'3176718735', u'processing_state': u'EVALUATED', u'account_key': u'256', u'assigned_rating': u'PASSED', u'completion_date': datetime.datetime(2015, 1, 20, 0, 0), u'creation_date': datetime.datetime(2015, 1, 20, 0, 0)}\n",
      "4527\n",
      "2392\n",
      "731\n",
      "731\n",
      "3634\n",
      "{u'lessons_completed': 0, u'num_courses_visited': 1, u'total_minutes_visited': 11.6793745, u'projects_completed': 0, 'account_key': u'0', u'utc_date': datetime.datetime(2015, 1, 9, 0, 0)}\n"
     ]
    }
   ],
   "source": [
    "######################################\n",
    "#                 11                 #\n",
    "######################################\n",
    "\n",
    "## Create two lists of engagement data for paid students in the first week.\n",
    "## The first list should contain data for students who eventually pass the\n",
    "## subway project, and the second list should contain data for students\n",
    "## who do not.\n",
    "\n",
    "#print paid_students['1']\n",
    "#print non_udacity_submissions[1]\n",
    "paid_submissions = []\n",
    "\n",
    "\n",
    "subway_project_lesson_keys = ['746169184', '3176718735']\n",
    "passing_engagement = []\n",
    "non_passing_engagement = []\n",
    "account_key_list = []\n",
    "passing_keys = []\n",
    "\n",
    "\n",
    "for key in paid_students:\n",
    "    for submission in non_udacity_submissions:\n",
    "        if submission['account_key'] == key and \\\n",
    "        key not in account_key_list:\n",
    "            paid_submissions.append(submission)\n",
    "            account_key_list.append(key)\n",
    "            \n",
    "    \n",
    "\n",
    "\n",
    "#for student in paid_engagement_in_first_week:\n",
    "#    if student['account_key'] not in account_key_list:\n",
    "#        account_key_list.append(student['account_key'])\n",
    "\n",
    "#print non_udacity_submissions[1]\n",
    "for submission in non_udacity_submissions:\n",
    "    if submission['account_key'] in account_key_list:\n",
    "        if submission['lesson_key'] in subway_project_lesson_keys:\n",
    "            if submission['assigned_rating'] == 'PASSED' or \\\n",
    "            submission['assigned_rating'] == 'DISTINCTION':\n",
    "                passing_engagement.append(submission)\n",
    "                passing_keys.append(submission['account_key'])\n",
    "        else:\n",
    "            if submission['account_key'] not in passing_keys:\n",
    "                non_passing_engagement.append(submission)\n",
    "\n",
    "print passing_engagement[0]\n",
    "passing_keys = []\n",
    "\n",
    "for submission in passing_engagement:\n",
    "    if submission['account_key'] not in passing_keys:\n",
    "        passing_keys.append(submission['account_key'])\n",
    "\n",
    "passing_engagement = []\n",
    "non_passing_engagement = []\n",
    "\n",
    "\n",
    "for engagement_record in paid_engagement_in_first_week:\n",
    "    if engagement_record['account_key'] in passing_keys:\n",
    "        passing_engagement.append(engagement_record)\n",
    "    else:\n",
    "        non_passing_engagement.append(engagement_record)\n",
    "\n",
    "print len(passing_engagement)\n",
    "print len(non_passing_engagement)\n",
    "print len(account_key_list)\n",
    "print len(paid_submissions)\n",
    "print len(non_udacity_submissions)\n",
    "            \n",
    "print passing_engagement[0]\n",
    "\n",
    "#passing_engagement\n",
    "#non_passing_engagement"
   ]
  },
  {
   "cell_type": "markdown",
   "metadata": {},
   "source": [
    "## Comparing the Two Student Groups"
   ]
  },
  {
   "cell_type": "code",
   "execution_count": 62,
   "metadata": {},
   "outputs": [
    {
     "name": "stdout",
     "output_type": "stream",
     "text": [
      "Minutes Passing Mean: 394.586046484\n",
      "Minutes Passing Standard deviation: 448.499519327\n",
      "Minutes Passing Minimum: 0.0\n",
      "Minutes Passing Maximum: 3564.7332645\n",
      "\n",
      "Minutes Non Passing Mean: 143.326474267\n",
      "Minutes Non Passing Standard deviation: 269.538619011\n",
      "Minutes Non Passing Minimum: 0.0\n",
      "Minutes Non Passing Maximum: 1768.52274933\n",
      "\n",
      "Lessons Passing Mean: 2.05255023184\n",
      "Lessons Passing Standard deviation: 3.14222705558\n",
      "Lessons Passing Minimum: 0\n",
      "Lessons Passing Maximum: 36\n",
      "\n",
      "Lessons Non Passing Mean: 0.862068965517\n",
      "Lessons Non Passing Standard deviation: 2.54915994183\n",
      "Lessons Non Passing Minimum: 0\n",
      "Lessons Non Passing Maximum: 27\n"
     ]
    }
   ],
   "source": [
    "######################################\n",
    "#                 12                 #\n",
    "######################################\n",
    "\n",
    "## Compute some metrics you're interested in and see how they differ for\n",
    "## students who pass the subway project vs. students who don't. A good\n",
    "## starting point would be the metrics we looked at earlier (minutes spent\n",
    "## in the classroom, lessons completed, and days visited).\n",
    "\n",
    "\n",
    "from collections import defaultdict\n",
    "\n",
    "minutes_passing_by_account = defaultdict(list)\n",
    "minutes_non_passing_by_account = defaultdict(list)\n",
    "lessons_passing_by_account = defaultdict(list)\n",
    "lessons_non_passing_by_account = defaultdict(list)\n",
    "days_passing_by_account = defaultdict(list)\n",
    "days_non_passing_by_account = defaultdict(list)\n",
    "\n",
    "\n",
    "for engagement in passing_engagement:\n",
    "    key = engagement['account_key']\n",
    "    minutes_passing_by_account[key].append(engagement['total_minutes_visited'])\n",
    "    lessons_passing_by_account[key].append(engagement['lessons_completed'])\n",
    "        \n",
    "for engagement in non_passing_engagement:\n",
    "    key = engagement['account_key']\n",
    "    minutes_non_passing_by_account[key].append(engagement['total_minutes_visited'])\n",
    "    lessons_non_passing_by_account[key].append(engagement['lessons_completed'])\n",
    "    \n",
    "\n",
    "    \n",
    "passing_minutes = []    \n",
    "non_passing_minutes = []\n",
    "minute_counter = 0\n",
    "\n",
    "for account_key in minutes_passing_by_account.keys():\n",
    "    for minute in minutes_passing_by_account[account_key]:\n",
    "        minute_counter += minute\n",
    "    passing_minutes.append(minute_counter)\n",
    "    minute_counter = 0\n",
    "    \n",
    "for account_key in minutes_non_passing_by_account.keys():\n",
    "    for minute in minutes_non_passing_by_account[account_key]:\n",
    "        minute_counter += minute\n",
    "    non_passing_minutes.append(minute_counter)\n",
    "    minute_counter = 0\n",
    "\n",
    "passing_lessons = []\n",
    "non_passing_lessons = []\n",
    "lesson_counter = 0\n",
    "\n",
    "for account_key in lessons_passing_by_account.keys():\n",
    "    for lesson in lessons_passing_by_account[account_key]:\n",
    "        lesson_counter += lesson\n",
    "    passing_lessons.append(lesson_counter)\n",
    "    lesson_counter = 0\n",
    "    \n",
    "for account_key in lessons_non_passing_by_account.keys():\n",
    "    for lesson in lessons_non_passing_by_account[account_key]:\n",
    "        lesson_counter += lesson\n",
    "    non_passing_lessons.append(lesson_counter)\n",
    "    lesson_counter = 0\n",
    "\n",
    "    \n",
    "import numpy as np\n",
    "\n",
    "print 'Minutes Passing Mean:', np.mean(passing_minutes)\n",
    "print 'Minutes Passing Standard deviation:', np.std(passing_minutes)\n",
    "print 'Minutes Passing Minimum:', np.min(passing_minutes)\n",
    "print 'Minutes Passing Maximum:', np.max(passing_minutes)\n",
    "print \"\"\n",
    "print 'Minutes Non Passing Mean:', np.mean(non_passing_minutes)\n",
    "print 'Minutes Non Passing Standard deviation:', np.std(non_passing_minutes)\n",
    "print 'Minutes Non Passing Minimum:', np.min(non_passing_minutes)\n",
    "print 'Minutes Non Passing Maximum:', np.max(non_passing_minutes)\n",
    "print \"\"\n",
    "print 'Lessons Passing Mean:', np.mean(passing_lessons)\n",
    "print 'Lessons Passing Standard deviation:', np.std(passing_lessons)\n",
    "print 'Lessons Passing Minimum:', np.min(passing_lessons)\n",
    "print 'Lessons Passing Maximum:', np.max(passing_lessons)\n",
    "print \"\"\n",
    "print 'Lessons Non Passing Mean:', np.mean(non_passing_lessons)\n",
    "print 'Lessons Non Passing Standard deviation:', np.std(non_passing_lessons)\n",
    "print 'Lessons Non Passing Minimum:', np.min(non_passing_lessons)\n",
    "print 'Lessons Non Passing Maximum:', np.max(non_passing_lessons)\n",
    "\n",
    "\n"
   ]
  },
  {
   "cell_type": "markdown",
   "metadata": {},
   "source": [
    "## Making Histograms"
   ]
  },
  {
   "cell_type": "code",
   "execution_count": 73,
   "metadata": {},
   "outputs": [
    {
     "data": {
      "text/plain": [
       "(array([ 272.,   34.,   17.,    9.,    6.,    2.,    1.,    5.,    0.,    2.]),\n",
       " array([    0.        ,   176.85227493,   353.70454987,   530.5568248 ,\n",
       "          707.40909973,   884.26137467,  1061.1136496 ,  1237.96592453,\n",
       "         1414.81819947,  1591.6704744 ,  1768.52274933]),\n",
       " <a list of 10 Patch objects>)"
      ]
     },
     "execution_count": 73,
     "metadata": {},
     "output_type": "execute_result"
    },
    {
     "data": {
      "image/png": "[encoded data removed]",
      "text/plain": [
       "<matplotlib.figure.Figure at 0x7fabe74b64d0>"
      ]
     },
     "metadata": {},
     "output_type": "display_data"
    }
   ],
   "source": [
    "######################################\n",
    "#                 13                 #\n",
    "######################################\n",
    "\n",
    "## Make histograms of the three metrics we looked at earlier for both\n",
    "## students who passed the subway project and students who didn't. You\n",
    "## might also want to make histograms of any other metrics you examined.\n",
    "import seaborn as sns\n",
    "%matplotlib inline\n",
    "import matplotlib.pyplot as plt\n",
    "plt.hist(passing_minutes)\n",
    "plt.hist(non_passing_minutes)\n",
    "\n",
    "\n"
   ]
  },
  {
   "cell_type": "markdown",
   "metadata": {},
   "source": [
    "## Improving Plots and Sharing Findings"
   ]
  },
  {
   "cell_type": "code",
   "execution_count": 74,
   "metadata": {},
   "outputs": [
    {
     "data": {
      "text/plain": [
       "<matplotlib.text.Text at 0x7fabe72bec90>"
      ]
     },
     "execution_count": 74,
     "metadata": {},
     "output_type": "execute_result"
    },
    {
     "data": {
      "image/png": "[encoded data removed]",
      "text/plain": [
       "<matplotlib.figure.Figure at 0x7fabe73bf910>"
      ]
     },
     "metadata": {},
     "output_type": "display_data"
    }
   ],
   "source": [
    "######################################\n",
    "#                 14                 #\n",
    "######################################\n",
    "\n",
    "## Make a more polished version of at least one of your visualizations\n",
    "## from earlier. Try importing the seaborn library to make the visualization\n",
    "## look better, adding axis labels and a title, and changing one or more\n",
    "## arguments to the hist() function.\n",
    "import seaborn as sns\n",
    "plt.hist(passing_minutes)\n",
    "plt.hist(non_passing_minutes)\n",
    "plt.xlabel(\"Number of people\")\n",
    "plt.ylabel(\"Number of minutes\")\n",
    "plt.title(\"First week minutes spent in the classroom\")"
   ]
  },
  {
   "cell_type": "code",
   "execution_count": null,
   "metadata": {
    "collapsed": true
   },
   "outputs": [],
   "source": []
  }
 ],
 "metadata": {
  "kernelspec": {
   "display_name": "Python 2",
   "language": "python",
   "name": "python2"
  },
  "language_info": {
   "codemirror_mode": {
    "name": "ipython",
    "version": 2
   },
   "file_extension": ".py",
   "mimetype": "text/x-python",
   "name": "python",
   "nbconvert_exporter": "python",
   "pygments_lexer": "ipython2",
   "version": "2.7.13"
  }
 },
 "nbformat": 4,
 "nbformat_minor": 1
}
